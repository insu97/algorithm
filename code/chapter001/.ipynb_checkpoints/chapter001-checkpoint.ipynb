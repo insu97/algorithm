{
 "cells": [
  {
   "cell_type": "markdown",
   "id": "1387e41d",
   "metadata": {},
   "source": [
    "# 순차검색"
   ]
  },
  {
   "cell_type": "code",
   "execution_count": 3,
   "id": "4ab18385",
   "metadata": {
    "ExecuteTime": {
     "end_time": "2023-03-04T10:01:34.867163Z",
     "start_time": "2023-03-04T10:01:34.861196Z"
    }
   },
   "outputs": [],
   "source": [
    "def sequential_search(n, target, array):\n",
    "    for i in range(n):\n",
    "        if array[i] == target:\n",
    "            return i + 1"
   ]
  },
  {
   "cell_type": "code",
   "execution_count": 5,
   "id": "7c374646",
   "metadata": {
    "ExecuteTime": {
     "end_time": "2023-03-04T10:01:45.945647Z",
     "start_time": "2023-03-04T10:01:43.896689Z"
    }
   },
   "outputs": [
    {
     "name": "stdout",
     "output_type": "stream",
     "text": [
      "생성할 원소 개수를 입력한 다음 한 칸 띄고 찾을 문자열을 입력하세요\n",
      "5 DO\n"
     ]
    }
   ],
   "source": [
    "print(\"생성할 원소 개수를 입력한 다음 한 칸 띄고 찾을 문자열을 입력하세요\")\n",
    "input_data = input().split()\n",
    "n = int(input_data[0])\n",
    "target = input_data[1]"
   ]
  },
  {
   "cell_type": "code",
   "execution_count": 6,
   "id": "6db84810",
   "metadata": {
    "ExecuteTime": {
     "end_time": "2023-03-04T10:01:54.187571Z",
     "start_time": "2023-03-04T10:01:47.600307Z"
    }
   },
   "outputs": [
    {
     "name": "stdout",
     "output_type": "stream",
     "text": [
      "앞서 적은 원소 개수만큼 문자열을 입력하세요. 구분은 띄어쓰기 한 칸으로 합니다.\n",
      "AO BO CO DO EO\n",
      "4\n"
     ]
    }
   ],
   "source": [
    "print(\"앞서 적은 원소 개수만큼 문자열을 입력하세요. 구분은 띄어쓰기 한 칸으로 합니다.\")\n",
    "array = input().split()\n",
    "\n",
    "print(sequential_search(n, target, array))"
   ]
  },
  {
   "cell_type": "markdown",
   "id": "075bf07a",
   "metadata": {},
   "source": [
    "# 배열의 수 더하기"
   ]
  },
  {
   "cell_type": "code",
   "execution_count": 7,
   "id": "f39c5f46",
   "metadata": {
    "ExecuteTime": {
     "end_time": "2023-03-04T10:01:56.785447Z",
     "start_time": "2023-03-04T10:01:56.775438Z"
    }
   },
   "outputs": [],
   "source": [
    "def sum_list(S) :\n",
    "    result = 0\n",
    "    for i in range(len(S)) :\n",
    "        result += S[i]\n",
    "    return result"
   ]
  },
  {
   "cell_type": "code",
   "execution_count": 8,
   "id": "24fa6481",
   "metadata": {
    "ExecuteTime": {
     "end_time": "2023-03-04T10:01:57.172355Z",
     "start_time": "2023-03-04T10:01:57.159355Z"
    }
   },
   "outputs": [
    {
     "data": {
      "text/plain": [
       "16"
      ]
     },
     "execution_count": 8,
     "metadata": {},
     "output_type": "execute_result"
    }
   ],
   "source": [
    "sum_list([1,3,5,7])"
   ]
  },
  {
   "cell_type": "markdown",
   "id": "e6c2058a",
   "metadata": {},
   "source": [
    "# 교환정렬"
   ]
  },
  {
   "cell_type": "code",
   "execution_count": 9,
   "id": "bf625fea",
   "metadata": {
    "ExecuteTime": {
     "end_time": "2023-03-04T10:01:57.982523Z",
     "start_time": "2023-03-04T10:01:57.966446Z"
    }
   },
   "outputs": [],
   "source": [
    "def exchange_sort(S) :\n",
    "    tmp = 0\n",
    "    for i in range(len(S)-1) :\n",
    "        for j in range(i+1, len(S)) :\n",
    "            if S[i] > S[j] :\n",
    "                tmp = S[i]\n",
    "                S[i] = S[j]\n",
    "                S[j] = tmp\n",
    "    return S"
   ]
  },
  {
   "cell_type": "code",
   "execution_count": 10,
   "id": "5df441c4",
   "metadata": {
    "ExecuteTime": {
     "end_time": "2023-03-04T10:01:58.323667Z",
     "start_time": "2023-03-04T10:01:58.311072Z"
    }
   },
   "outputs": [
    {
     "data": {
      "text/plain": [
       "[2, 3, 5, 6]"
      ]
     },
     "execution_count": 10,
     "metadata": {},
     "output_type": "execute_result"
    }
   ],
   "source": [
    "exchange_sort([5,3,2,6])"
   ]
  },
  {
   "cell_type": "markdown",
   "id": "8d0616d1",
   "metadata": {},
   "source": [
    "# 행렬곱셈"
   ]
  },
  {
   "cell_type": "code",
   "execution_count": 11,
   "id": "4f64d4ed",
   "metadata": {
    "ExecuteTime": {
     "end_time": "2023-03-04T10:01:59.183164Z",
     "start_time": "2023-03-04T10:01:59.170624Z"
    }
   },
   "outputs": [],
   "source": [
    "def matrixmult(A,B) :\n",
    "    \n",
    "    C = [[0 for col in range(len(B[0]))] for row in range(len(A))]\n",
    "\n",
    "    for i in range(len(A)) :\n",
    "        for j in range(len(B[0])) :\n",
    "            for k in range(len(A[0])) :\n",
    "                C[i][j] += A[i][k]*B[k][j]\n",
    "            \n",
    "    return C"
   ]
  },
  {
   "cell_type": "code",
   "execution_count": 12,
   "id": "8e10b347",
   "metadata": {
    "ExecuteTime": {
     "end_time": "2023-03-04T10:01:59.712960Z",
     "start_time": "2023-03-04T10:01:59.702996Z"
    }
   },
   "outputs": [
    {
     "data": {
      "text/plain": [
       "[[7, 10], [15, 22]]"
      ]
     },
     "execution_count": 12,
     "metadata": {},
     "output_type": "execute_result"
    }
   ],
   "source": [
    "A = [[1,2],[3,4]]\n",
    "B = [[1,2],[3,4]]\n",
    "\n",
    "matrixmult(A,B)"
   ]
  },
  {
   "cell_type": "code",
   "execution_count": 13,
   "id": "bc823f51",
   "metadata": {
    "ExecuteTime": {
     "end_time": "2023-03-04T10:02:00.597688Z",
     "start_time": "2023-03-04T10:02:00.590736Z"
    }
   },
   "outputs": [
    {
     "data": {
      "text/plain": [
       "[[22, 28], [49, 64]]"
      ]
     },
     "execution_count": 13,
     "metadata": {},
     "output_type": "execute_result"
    }
   ],
   "source": [
    "A = [[1,2,3],[4,5,6]]\n",
    "B = [[1,2],[3,4],[5,6]]\n",
    "\n",
    "matrixmult(A,B)"
   ]
  },
  {
   "cell_type": "markdown",
   "id": "8126b0d7",
   "metadata": {},
   "source": [
    "# 이분검색"
   ]
  },
  {
   "cell_type": "code",
   "execution_count": 15,
   "id": "55b34a91",
   "metadata": {
    "ExecuteTime": {
     "end_time": "2023-03-04T10:07:34.641174Z",
     "start_time": "2023-03-04T10:07:34.627161Z"
    }
   },
   "outputs": [],
   "source": [
    "def binsearch(S, target) :\n",
    "    low = 0\n",
    "    high = len(S)-1\n",
    "    location = 0\n",
    "    \n",
    "    while ( low <= high and location == 0 ) :\n",
    "        mid = round((low + high) / 2)\n",
    "        if S[mid] == target :\n",
    "            location = mid\n",
    "        elif target < S[mid] :\n",
    "            high = mid - 1\n",
    "        else :\n",
    "            low = mid + 1\n",
    "            \n",
    "    return location"
   ]
  },
  {
   "cell_type": "code",
   "execution_count": 16,
   "id": "3277735a",
   "metadata": {
    "ExecuteTime": {
     "end_time": "2023-03-04T10:08:25.179299Z",
     "start_time": "2023-03-04T10:08:25.162190Z"
    }
   },
   "outputs": [
    {
     "data": {
      "text/plain": [
       "4"
      ]
     },
     "execution_count": 16,
     "metadata": {},
     "output_type": "execute_result"
    }
   ],
   "source": [
    "S = [1,3,5,7,9,11]\n",
    "target = 9\n",
    "\n",
    "binsearch(S, target)"
   ]
  },
  {
   "cell_type": "markdown",
   "id": "2fbaeb7d",
   "metadata": {},
   "source": [
    "# 피보나치 수열"
   ]
  },
  {
   "cell_type": "markdown",
   "id": "e958bffc",
   "metadata": {},
   "source": [
    "## 재귀"
   ]
  },
  {
   "cell_type": "code",
   "execution_count": 1,
   "id": "022c6dec",
   "metadata": {
    "ExecuteTime": {
     "end_time": "2023-03-04T11:14:55.519983Z",
     "start_time": "2023-03-04T11:14:55.509774Z"
    }
   },
   "outputs": [],
   "source": [
    "def fib_1(n):\n",
    "    if (n <= 1) :\n",
    "        return n\n",
    "    else :\n",
    "        return fib(n-1) + fib(n-2)"
   ]
  },
  {
   "cell_type": "code",
   "execution_count": 2,
   "id": "5cc0d0ca",
   "metadata": {
    "ExecuteTime": {
     "end_time": "2023-03-04T11:14:59.158727Z",
     "start_time": "2023-03-04T11:14:59.146798Z"
    }
   },
   "outputs": [
    {
     "data": {
      "text/plain": [
       "55"
      ]
     },
     "execution_count": 2,
     "metadata": {},
     "output_type": "execute_result"
    }
   ],
   "source": [
    "fib(10)"
   ]
  },
  {
   "cell_type": "markdown",
   "id": "c7555b39",
   "metadata": {},
   "source": [
    "## 반복"
   ]
  },
  {
   "cell_type": "code",
   "execution_count": 33,
   "id": "2d78a20d",
   "metadata": {
    "ExecuteTime": {
     "end_time": "2023-03-04T11:44:20.714496Z",
     "start_time": "2023-03-04T11:44:20.705468Z"
    }
   },
   "outputs": [],
   "source": [
    "def fib_2(n):\n",
    "    f = [0] * (n+1)\n",
    "    \n",
    "    if (n <= 1) :\n",
    "        return 1\n",
    "    \n",
    "    if (n > 1) :\n",
    "        f[1] = 1\n",
    "        for i in range(2,n+1) :\n",
    "            f[i] = f[i-1] + f[i-2]\n",
    "            \n",
    "    return f[n]"
   ]
  },
  {
   "cell_type": "code",
   "execution_count": 40,
   "id": "1a009e76",
   "metadata": {
    "ExecuteTime": {
     "end_time": "2023-03-04T11:44:55.292290Z",
     "start_time": "2023-03-04T11:44:55.279054Z"
    }
   },
   "outputs": [
    {
     "data": {
      "text/plain": [
       "55"
      ]
     },
     "execution_count": 40,
     "metadata": {},
     "output_type": "execute_result"
    }
   ],
   "source": [
    "fib_2(10)"
   ]
  }
 ],
 "metadata": {
  "hide_input": false,
  "kernelspec": {
   "display_name": "Python 3 (ipykernel)",
   "language": "python",
   "name": "python3"
  },
  "language_info": {
   "codemirror_mode": {
    "name": "ipython",
    "version": 3
   },
   "file_extension": ".py",
   "mimetype": "text/x-python",
   "name": "python",
   "nbconvert_exporter": "python",
   "pygments_lexer": "ipython3",
   "version": "3.9.13"
  },
  "toc": {
   "base_numbering": 1,
   "nav_menu": {},
   "number_sections": true,
   "sideBar": true,
   "skip_h1_title": false,
   "title_cell": "Table of Contents",
   "title_sidebar": "Contents",
   "toc_cell": false,
   "toc_position": {},
   "toc_section_display": true,
   "toc_window_display": false
  },
  "varInspector": {
   "cols": {
    "lenName": 16,
    "lenType": 16,
    "lenVar": 40
   },
   "kernels_config": {
    "python": {
     "delete_cmd_postfix": "",
     "delete_cmd_prefix": "del ",
     "library": "var_list.py",
     "varRefreshCmd": "print(var_dic_list())"
    },
    "r": {
     "delete_cmd_postfix": ") ",
     "delete_cmd_prefix": "rm(",
     "library": "var_list.r",
     "varRefreshCmd": "cat(var_dic_list()) "
    }
   },
   "types_to_exclude": [
    "module",
    "function",
    "builtin_function_or_method",
    "instance",
    "_Feature"
   ],
   "window_display": false
  }
 },
 "nbformat": 4,
 "nbformat_minor": 5
}
