{
 "cells": [
  {
   "cell_type": "markdown",
   "id": "a7fd4241",
   "metadata": {},
   "source": [
    "# 이분검색(재귀)"
   ]
  },
  {
   "cell_type": "code",
   "execution_count": 113,
   "id": "30f625d1",
   "metadata": {
    "ExecuteTime": {
     "end_time": "2023-03-05T15:00:10.793765Z",
     "start_time": "2023-03-05T15:00:10.774709Z"
    }
   },
   "outputs": [],
   "source": [
    "def binsearch(S, target):\n",
    "    low = 0\n",
    "    high = len(S)-1\n",
    "    location = 0\n",
    "    \n",
    "    if (low > high) :\n",
    "        return print(\"target이 S에 없음\")\n",
    "    else :\n",
    "        mid = round((low+high)/2)\n",
    "        if target == S[mid] :\n",
    "            return mid\n",
    "        elif target < S[mid] :\n",
    "            return binsearch(S[low:high-1], target)\n",
    "        else :\n",
    "            return binsearch(S[mid+1:high], target)"
   ]
  },
  {
   "cell_type": "code",
   "execution_count": 114,
   "id": "c7009e11",
   "metadata": {
    "ExecuteTime": {
     "end_time": "2023-03-05T15:00:10.932865Z",
     "start_time": "2023-03-05T15:00:10.926896Z"
    }
   },
   "outputs": [
    {
     "data": {
      "text/plain": [
       "1"
      ]
     },
     "execution_count": 114,
     "metadata": {},
     "output_type": "execute_result"
    }
   ],
   "source": [
    "S = [10,12,13,14,18,20,25,27,30,35,40,45,47]\n",
    "target = 12\n",
    "\n",
    "binsearch(S, target)"
   ]
  },
  {
   "cell_type": "markdown",
   "id": "1794dded",
   "metadata": {},
   "source": [
    "# 합병정렬"
   ]
  },
  {
   "cell_type": "code",
   "execution_count": 115,
   "id": "41bba750",
   "metadata": {
    "ExecuteTime": {
     "end_time": "2023-03-05T15:00:11.242900Z",
     "start_time": "2023-03-05T15:00:11.235901Z"
    }
   },
   "outputs": [],
   "source": [
    "import math"
   ]
  },
  {
   "cell_type": "code",
   "execution_count": 116,
   "id": "a5f475ea",
   "metadata": {
    "ExecuteTime": {
     "end_time": "2023-03-05T15:00:11.551522Z",
     "start_time": "2023-03-05T15:00:11.543015Z"
    }
   },
   "outputs": [],
   "source": [
    "def mergesort(S) :\n",
    "    if (len(S) > 1) :\n",
    "        h = math.floor(len(S)/2)\n",
    "        m = len(S) - h\n",
    "        U = S[:h]\n",
    "        V = S[h:]\n",
    "        mergesort(U)\n",
    "        mergesort(V)\n",
    "        merge(U,V,S)"
   ]
  },
  {
   "cell_type": "code",
   "execution_count": 117,
   "id": "70ff7035",
   "metadata": {
    "ExecuteTime": {
     "end_time": "2023-03-05T15:00:11.693352Z",
     "start_time": "2023-03-05T15:00:11.681441Z"
    }
   },
   "outputs": [],
   "source": [
    "def merge(U,V,S):\n",
    "    i = 0\n",
    "    j = 0\n",
    "    k = 0\n",
    "    \n",
    "    while(i<len(U) and j < len(V)) :\n",
    "        if (U[i] < V[j]) :\n",
    "            S[k] = U[i]\n",
    "            i += 1\n",
    "        else :\n",
    "            S[k] = V[j]\n",
    "            j += 1\n",
    "        k += 1\n",
    "    if (i+1 > len(U)) :\n",
    "        S[k:len(U)+len(V)+1] = V[j:len(V)+1]\n",
    "    else :\n",
    "        S[k:len(U)+len(V)+1] = U[i:len(U)+1]"
   ]
  },
  {
   "cell_type": "code",
   "execution_count": 118,
   "id": "86f53ffe",
   "metadata": {
    "ExecuteTime": {
     "end_time": "2023-03-05T15:00:11.848832Z",
     "start_time": "2023-03-05T15:00:11.830724Z"
    }
   },
   "outputs": [],
   "source": [
    "S = [27,10,12,20,25,13,15,22]\n",
    "mergesort(S)"
   ]
  },
  {
   "cell_type": "code",
   "execution_count": 119,
   "id": "6186de30",
   "metadata": {
    "ExecuteTime": {
     "end_time": "2023-03-05T15:00:12.004721Z",
     "start_time": "2023-03-05T15:00:11.985210Z"
    }
   },
   "outputs": [
    {
     "data": {
      "text/plain": [
       "[10, 12, 13, 15, 20, 22, 25, 27]"
      ]
     },
     "execution_count": 119,
     "metadata": {},
     "output_type": "execute_result"
    }
   ],
   "source": [
    "S"
   ]
  },
  {
   "cell_type": "markdown",
   "id": "e4ba2222",
   "metadata": {},
   "source": [
    "# 빠른정렬"
   ]
  },
  {
   "cell_type": "markdown",
   "id": "de8aea10",
   "metadata": {},
   "source": [
    "## 정통"
   ]
  },
  {
   "cell_type": "code",
   "execution_count": 120,
   "id": "560f8a1a",
   "metadata": {
    "ExecuteTime": {
     "end_time": "2023-03-05T15:00:12.332789Z",
     "start_time": "2023-03-05T15:00:12.323665Z"
    }
   },
   "outputs": [],
   "source": [
    "array = [15,22,13,27,12,10,20,25]\n",
    "\n",
    "def quick_sort(array, start, end):\n",
    "    \n",
    "    if start >= end :\n",
    "        return\n",
    "    \n",
    "    pivot = start\n",
    "    left = start + 1\n",
    "    right = end\n",
    "    \n",
    "    while left <= right :\n",
    "        \n",
    "        while left <= end and array[left] <= array[pivot]:\n",
    "            left += 1\n",
    "        while right > start and array[right] >= array[pivot]:\n",
    "            right -= 1\n",
    "            \n",
    "        if left > right:\n",
    "            array[right], array[pivot] = array[pivot], array[right]\n",
    "        else :\n",
    "            array[left], array[right] = array[right], array[left]\n",
    "    quick_sort(array, start, right-1)\n",
    "    quick_sort(array, right+1, end)"
   ]
  },
  {
   "cell_type": "code",
   "execution_count": 121,
   "id": "12f0b1ef",
   "metadata": {
    "ExecuteTime": {
     "end_time": "2023-03-05T15:00:12.517464Z",
     "start_time": "2023-03-05T15:00:12.498430Z"
    }
   },
   "outputs": [
    {
     "name": "stdout",
     "output_type": "stream",
     "text": [
      "[10, 12, 13, 15, 20, 22, 25, 27]\n"
     ]
    }
   ],
   "source": [
    "quick_sort(array, 0, len(array)-1)\n",
    "print(array)"
   ]
  },
  {
   "cell_type": "markdown",
   "id": "3a0b9804",
   "metadata": {},
   "source": [
    "## 파이썬의 장점을 살린"
   ]
  },
  {
   "cell_type": "code",
   "execution_count": 123,
   "id": "53021556",
   "metadata": {
    "ExecuteTime": {
     "end_time": "2023-03-05T15:00:43.790509Z",
     "start_time": "2023-03-05T15:00:43.780940Z"
    }
   },
   "outputs": [
    {
     "name": "stdout",
     "output_type": "stream",
     "text": [
      "[10, 12, 13, 15, 20, 22, 25, 27]\n"
     ]
    }
   ],
   "source": [
    "array = [15,22,13,27,12,10,20,25]\n",
    "\n",
    "def quick_sort(array):\n",
    "    if len(array) <= 1:\n",
    "        return array\n",
    "    \n",
    "    pivot = array[0]\n",
    "    tail = array[1:]\n",
    "    \n",
    "    left_side = [x for x in tail if x <= pivot]\n",
    "    right_side = [x for x in tail if x > pivot]\n",
    "    \n",
    "    return quick_sort(left_side) + [pivot] + quick_sort(right_side)\n",
    "\n",
    "print(quick_sort(array))"
   ]
  }
 ],
 "metadata": {
  "hide_input": false,
  "kernelspec": {
   "display_name": "Python 3 (ipykernel)",
   "language": "python",
   "name": "python3"
  },
  "language_info": {
   "codemirror_mode": {
    "name": "ipython",
    "version": 3
   },
   "file_extension": ".py",
   "mimetype": "text/x-python",
   "name": "python",
   "nbconvert_exporter": "python",
   "pygments_lexer": "ipython3",
   "version": "3.9.13"
  },
  "toc": {
   "base_numbering": 1,
   "nav_menu": {},
   "number_sections": true,
   "sideBar": true,
   "skip_h1_title": false,
   "title_cell": "Table of Contents",
   "title_sidebar": "Contents",
   "toc_cell": false,
   "toc_position": {},
   "toc_section_display": true,
   "toc_window_display": false
  },
  "varInspector": {
   "cols": {
    "lenName": 16,
    "lenType": 16,
    "lenVar": 40
   },
   "kernels_config": {
    "python": {
     "delete_cmd_postfix": "",
     "delete_cmd_prefix": "del ",
     "library": "var_list.py",
     "varRefreshCmd": "print(var_dic_list())"
    },
    "r": {
     "delete_cmd_postfix": ") ",
     "delete_cmd_prefix": "rm(",
     "library": "var_list.r",
     "varRefreshCmd": "cat(var_dic_list()) "
    }
   },
   "types_to_exclude": [
    "module",
    "function",
    "builtin_function_or_method",
    "instance",
    "_Feature"
   ],
   "window_display": false
  }
 },
 "nbformat": 4,
 "nbformat_minor": 5
}
